{
 "cells": [
  {
   "cell_type": "markdown",
   "source": [
    "# Principal Component Analysis of the Breast Cancer Dataset"
   ],
   "metadata": {}
  },
  {
   "cell_type": "code",
   "execution_count": 8,
   "source": [
    "import matplotlib.pyplot as plt\n",
    "import numpy as np\n",
    "from sklearn.datasets import load_breast_cancer\n",
    "from sklearn.model_selection import train_test_split\n",
    "from sklearn.preprocessing import StandardScaler"
   ],
   "outputs": [],
   "metadata": {}
  },
  {
   "cell_type": "code",
   "execution_count": 2,
   "source": [
    "data = load_breast_cancer()\n",
    "X = data.data\n",
    "Y = data.target\n",
    "\n",
    "print(X.shape)\n",
    "print(Y.shape)\n",
    "print(Y.dtype)"
   ],
   "outputs": [
    {
     "output_type": "stream",
     "name": "stdout",
     "text": [
      "(569, 30)\n",
      "(569,)\n",
      "int64\n"
     ]
    }
   ],
   "metadata": {}
  },
  {
   "cell_type": "code",
   "execution_count": 3,
   "source": [
    "X_train, X_test, Y_train, Y_test = train_test_split(X, Y, test_size=0.3, random_state=0, stratify=Y)\n",
    "\n",
    "print(X_train.shape)\n",
    "print(X_test.shape)"
   ],
   "outputs": [
    {
     "output_type": "stream",
     "name": "stdout",
     "text": [
      "(398, 30)\n",
      "(171, 30)\n"
     ]
    }
   ],
   "metadata": {}
  },
  {
   "cell_type": "code",
   "execution_count": 6,
   "source": [
    "sc = StandardScaler()\n",
    "X_train_sc = sc.fit_transform(X_train)\n",
    "X_test_sc = sc.transform(X_test)"
   ],
   "outputs": [
    {
     "output_type": "stream",
     "name": "stdout",
     "text": [
      "(398, 30)\n"
     ]
    }
   ],
   "metadata": {}
  },
  {
   "cell_type": "markdown",
   "source": [
    "## Compute the covariance matrix and its eigenvalues"
   ],
   "metadata": {}
  },
  {
   "cell_type": "code",
   "execution_count": 11,
   "source": [
    "cov_mat = np.cov(X_train_sc.T)\n",
    "eigvals_cov, eigvecs_cov = np.linalg.eig(cov_mat)"
   ],
   "outputs": [
    {
     "output_type": "stream",
     "name": "stdout",
     "text": [
      "[1.33619996e+01 5.77613227e+00 2.83172331e+00 1.99464701e+00\n",
      " 1.56506341e+00 1.18173548e+00 7.39253182e-01 4.81500525e-01\n",
      " 4.47377728e-01 3.59251865e-01 2.76598828e-01 2.41469690e-01\n",
      " 1.89614117e-01 1.51520781e-01 1.00837584e-01 7.31514176e-02\n",
      " 5.65453910e-02 5.45293598e-02 4.62442661e-02 3.14881362e-02\n",
      " 2.80669748e-02 2.36060675e-02 1.26373736e-04 6.33203650e-04\n",
      " 1.24812097e-03 1.98992275e-02 1.57750910e-02 6.29340590e-03\n",
      " 8.15218251e-03 1.10821457e-02]\n"
     ]
    }
   ],
   "metadata": {}
  },
  {
   "cell_type": "markdown",
   "source": [
    "## Variance explained ratios and cumulative sum"
   ],
   "metadata": {}
  },
  {
   "cell_type": "code",
   "execution_count": 12,
   "source": [
    "tot = sum(eigvals_cov)\n",
    "var_expl_ratios = [(l / tot) for l in sorted(eigvals_cov, reverse=True)]\n",
    "\n",
    "cum_sum_expl_ratios = np.cumsum(var_expl_ratios)\n",
    "\n",
    "# plot explained variances\n",
    "plt.bar(range(1,31), var_expl_ratios, alpha=0.5,\n",
    "        align='center', label='individual explained variance')\n",
    "plt.step(range(1,31), cum_sum_expl_ratios, where='mid',\n",
    "         label='cumulative explained variance')\n",
    "plt.ylabel('Explained variance ratio')\n",
    "plt.xlabel('Principal component index')\n",
    "plt.legend(loc='best')\n",
    "plt.show()"
   ],
   "outputs": [
    {
     "output_type": "display_data",
     "data": {
      "text/plain": [
       "<Figure size 432x288 with 1 Axes>"
      ],
      "image/png": "[encoded data removed]"
     },
     "metadata": {
      "needs_background": "light"
     }
    }
   ],
   "metadata": {}
  },
  {
   "cell_type": "markdown",
   "source": [
    "We can see that already with 4 components, we have reached 80\\% of the cumulative sum of the eigenvalues"
   ],
   "metadata": {}
  },
  {
   "cell_type": "markdown",
   "source": [
    "## Selection of the two principal components and projection"
   ],
   "metadata": {}
  },
  {
   "cell_type": "code",
   "execution_count": 13,
   "source": [
    "# Make a list of (eigenvalue, eigenvector) tuples\n",
    "eigenpairs_cov = [(np.abs(eigvals_cov[i]), eigvecs_cov[:, i]) for i in range(len(eigvals_cov))]\n",
    "\n",
    "# Sort the (eigenvalue, eigenvector) tuples from high to low\n",
    "eigenpairs_cov.sort(key=lambda k: k[0], reverse=True)"
   ],
   "outputs": [],
   "metadata": {}
  },
  {
   "cell_type": "code",
   "execution_count": 14,
   "source": [
    "w = np.hstack((eigenpairs_cov[0][1][:, np.newaxis], eigenpairs_cov[1][1][:, np.newaxis]))\n",
    "print('Matrix W:\\n', w)"
   ],
   "outputs": [
    {
     "output_type": "stream",
     "name": "stdout",
     "text": [
      "Matrix W:\n",
      " [[ 0.2185744  -0.23269304]\n",
      " [ 0.09943658 -0.04518212]\n",
      " [ 0.22689759 -0.21511138]\n",
      " [ 0.22041417 -0.23091785]\n",
      " [ 0.14604177  0.18164928]\n",
      " [ 0.24007255  0.14810627]\n",
      " [ 0.26068389  0.04649103]\n",
      " [ 0.25985533 -0.04286871]\n",
      " [ 0.1405877   0.19442808]\n",
      " [ 0.06125885  0.3644168 ]\n",
      " [ 0.20734509 -0.1112404 ]\n",
      " [ 0.01820432  0.08220532]\n",
      " [ 0.21094537 -0.09477317]\n",
      " [ 0.2004511  -0.15234119]\n",
      " [ 0.00988444  0.20625773]\n",
      " [ 0.16686329  0.23580134]\n",
      " [ 0.15908967  0.18699806]\n",
      " [ 0.18553431  0.11315016]\n",
      " [ 0.04281591  0.19027379]\n",
      " [ 0.10637555  0.27788893]\n",
      " [ 0.22879137 -0.21466785]\n",
      " [ 0.10073717 -0.03365085]\n",
      " [ 0.23671966 -0.19619496]\n",
      " [ 0.22617485 -0.21411621]\n",
      " [ 0.1236782   0.18696912]\n",
      " [ 0.20970098  0.15116191]\n",
      " [ 0.22807551  0.09811137]\n",
      " [ 0.25096058 -0.00580671]\n",
      " [ 0.12005442  0.16348388]\n",
      " [ 0.13083763  0.27977269]]\n"
     ]
    }
   ],
   "metadata": {}
  },
  {
   "cell_type": "code",
   "execution_count": 15,
   "source": [
    "X_train_pca = X_train_sc.dot(w)"
   ],
   "outputs": [],
   "metadata": {}
  },
  {
   "cell_type": "code",
   "execution_count": 16,
   "source": [
    "colors = ['r', 'b']\n",
    "markers = ['s', 'x']\n",
    "for l, c, m in zip(np.unique(Y_train), colors, markers):\n",
    "    plt.scatter(X_train_pca[Y_train==l, 0], \n",
    "                X_train_pca[Y_train==l, 1], \n",
    "                c=c, label=l, marker=m) \n",
    "plt.xlabel('PC 1')\n",
    "plt.ylabel('PC 2')\n",
    "plt.legend(loc='lower left')\n",
    "plt.show()"
   ],
   "outputs": [
    {
     "output_type": "display_data",
     "data": {
      "text/plain": [
       "<Figure size 432x288 with 1 Axes>"
      ],
      "image/png": "[encoded data removed]"
     },
     "metadata": {
      "needs_background": "light"
     }
    }
   ],
   "metadata": {}
  },
  {
   "cell_type": "code",
   "execution_count": null,
   "source": [],
   "outputs": [],
   "metadata": {}
  }
 ],
 "metadata": {
  "orig_nbformat": 4,
  "language_info": {
   "name": "python"
  }
 },
 "nbformat": 4,
 "nbformat_minor": 2
}