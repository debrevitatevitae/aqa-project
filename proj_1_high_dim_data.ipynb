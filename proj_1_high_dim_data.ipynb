{
 "cells": [
  {
   "cell_type": "markdown",
   "source": [
    "# Project 1: High dimensional data"
   ],
   "metadata": {}
  },
  {
   "cell_type": "markdown",
   "source": [
    "## Introduction\n",
    "The aim of this notebook is to show and apply three different techniques for dimensionality reduction of data that we want to classify with a quantum circuit. This is important, since nowadays NISQ devices can count on 50-100 noisy qubits at most. Therefore, encoding 1 dimension to 1 qubit is often unfeasible.\n",
    "\n",
    "Here we will be using the Winsconsin Breast Cancer dataset, which has the following features (see [sklearn.datasets.load_breast_cancer](https://scikit-learn.org/stable/modules/generated/sklearn.datasets.load_breast_cancer.html#sklearn.datasets.load_breast_cancer))\n",
    "\n",
    "|||\n",
    "|---------|---|\n",
    "| Classes | 2 |\n",
    "| Samples per class | 212 (M), 357 (B) |\n",
    "| Samples total | 569 |\n",
    "| Dimensionality | 30 |\n",
    "| Features | real, positive |\n",
    "\n",
    "In Part 1 of this notebook, we will reduce dimensions using principal component analysis (PCA) and then use the method of [Havlicek et al.](https://arxiv.org/abs/1804.11326). Here, one dimension of the reduced dataset will be encoded in 1 qubit. In Part 2, we will perform data dimensionality and classification together, by using the data re-uploading technique of [Perez-Salinas et al.](https://arxiv.org/abs/1907.02085). Finally, Part 3 will use amplitude encoding as shown in [Mottonen et al.](https://arxiv.org/abs/quant-ph/0407010) to exponentially reduce data dimensionality, by encoding data in a quantum state."
   ],
   "metadata": {}
  },
  {
   "cell_type": "markdown",
   "source": [],
   "metadata": {}
  }
 ],
 "metadata": {
  "orig_nbformat": 4,
  "language_info": {
   "name": "python",
   "version": "3.8.2"
  },
  "kernelspec": {
   "name": "python3",
   "display_name": "Python 3.8.2 64-bit ('aqa_course': pyenv)"
  },
  "interpreter": {
   "hash": "9a740af11063250e38cc681ed4147b116e0e3c60932148d9f135c469eac25242"
  }
 },
 "nbformat": 4,
 "nbformat_minor": 2
}