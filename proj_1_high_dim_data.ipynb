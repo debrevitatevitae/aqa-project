{
 "cells": [
  {
   "cell_type": "markdown",
   "source": [
    "# Project 1: High dimensional data"
   ],
   "metadata": {}
  },
  {
   "cell_type": "markdown",
   "source": [
    "## Introduction\n",
    "The aim of this notebook is to show and apply three different techniques for dimensionality reduction of data that we want to classify with a quantum circuit. This is important, since nowadays NISQ devices can count on 50-100 noisy qubits at most. Therefore, encoding 1 dimension to 1 qubit is often unfeasible.\n",
    "\n",
    "Here we will be using the Winsconsin Breast Cancer dataset, which has the following features (see [sklearn.datasets.load_breast_cancer](https://scikit-learn.org/stable/modules/generated/sklearn.datasets.load_breast_cancer.html#sklearn.datasets.load_breast_cancer))\n",
    "\n",
    "|||\n",
    "|---------|---|\n",
    "| Classes | 2 |\n",
    "| Samples per class | 212 (M), 357 (B) |\n",
    "| Samples total | 569 |\n",
    "| Dimensionality | 30 |\n",
    "| Features | real, positive |\n",
    "\n",
    "In Part 1 of this notebook, we will reduce dimensions using principal component analysis (PCA) and then use the method of [Havlicek et al.](https://arxiv.org/abs/1804.11326). Here, one dimension of the reduced dataset will be encoded in 1 qubit. In Part 2, we will perform data dimensionality and classification together, by using the data re-uploading technique of [Perez-Salinas et al.](https://arxiv.org/abs/1907.02085). Finally, Part 3 will use amplitude encoding as shown in [Mottonen et al.](https://arxiv.org/abs/quant-ph/0407010) to exponentially reduce dimensionality, by encoding data in a quantum state.\n",
    "\n",
    "Each technique will be first tested with a single split of the entire dataset in test/train subsets. Subsequently, each method will be benchmarked using 10-fold cross validation."
   ],
   "metadata": {}
  },
  {
   "cell_type": "markdown",
   "source": [
    "## Dimensionality reduction with PCA\n",
    "### Finding the minimum number of principal components\n",
    "Principal component analysis consists in projecting the original dataset $\\{x^{(i)} \\in \\mathcal{R}^d,\\; i=1,\\dots N\\}$ into a lower-dimensional subspace $R^{d\\prime}$ with $d\\prime < d$. The basis of this new subspace is given by the directions of maximum variance of the dataset, with the constraint of being orthogonal to each other.\n",
    "\n",
    "It follows that the principal components of the dataset correspond to the eigenvectors $v_i$ of the covariance matrix of the dataset $\\mathcal{X}$, associated to the largest eigenvalues $\\lambda_i$.\n",
    "\n",
    "Once the eigencouples $(\\lambda_i,\\, v_i)$ are found, they can be sorted in decreasing order, depending on $\\lambda_i$. The relative importance of each eigenvalue is given by the *variance explained ratio*, that is\n",
    "$$\n",
    "r_j = \\frac{\\lambda_j}{\\sum_{i=1}^d \\lambda_i}.\n",
    "$$\n",
    "We can then study the cumulative sum of the variance explained ratios, i.e.\n",
    "$$\n",
    "\\text{cumsum}(i) = \\frac{\\sum_{j<i}\\lambda_j}{\\sum_{i=1}^d \\lambda_i} = \\sum_{j<i}r_j.\n",
    "$$\n",
    "This quantity will tell us the minimum number of principal components that we should consider to still preserve the variance of the original dataset up to a certain accuracy.\n",
    "\n",
    "The covariance matrix, its eigencouples and the cumulative sum of the eigenvalues are computed in the next few cells. The code follows the steps illustrated in [this webpage](https://towardsdatascience.com/principal-component-analysis-for-dimensionality-reduction-115a3d157bad)."
   ],
   "metadata": {}
  },
  {
   "cell_type": "code",
   "execution_count": 2,
   "source": [
    "import matplotlib.pyplot as plt\n",
    "import numpy as np\n",
    "from sklearn.datasets import load_breast_cancer\n",
    "from sklearn.model_selection import train_test_split\n",
    "from sklearn.preprocessing import StandardScaler"
   ],
   "outputs": [],
   "metadata": {}
  },
  {
   "cell_type": "code",
   "execution_count": 3,
   "source": [
    "# Load data\n",
    "data = load_breast_cancer()\n",
    "X = data.data\n",
    "Y = data.target"
   ],
   "outputs": [],
   "metadata": {}
  },
  {
   "cell_type": "markdown",
   "source": [
    "Operations such as data scaling or computing the covariance matrix require to extract information from data such as mean and std. dev.\n",
    "\n",
    "In classification, our entire dataset is split into a training and a testing subset. The aim is to learn the model from the training set and validate the trained model with unseen data from the test set.\n",
    "\n",
    "Therefore, to keep the validation unbiased, scaling, derivation of the covariance matrix, etc are done only on the training subset $X_{train}$."
   ],
   "metadata": {}
  },
  {
   "cell_type": "code",
   "execution_count": 4,
   "source": [
    "X_train, X_test, Y_train, Y_test = train_test_split(X, Y, test_size=0.3, random_state=0, stratify=Y)"
   ],
   "outputs": [],
   "metadata": {}
  },
  {
   "cell_type": "markdown",
   "source": [
    "The `sklearn` package offers the `StandardScaler` class, which allows to scale the training set with the `fit_transform` method as so\n",
    "$$\n",
    "x_{sc} = \\frac{x - \\mu}{\\sigma},\n",
    "$$\n",
    "where  $\\mu$ and $\\sigma$ are mean and standard deviation of the training set. These two quantities are kept to scale the test set with the `transform` method."
   ],
   "metadata": {}
  },
  {
   "cell_type": "code",
   "execution_count": 5,
   "source": [
    "sc = StandardScaler()\n",
    "X_train_sc = sc.fit_transform(X_train)\n",
    "X_test_sc = sc.transform(X_train)"
   ],
   "outputs": [],
   "metadata": {}
  },
  {
   "cell_type": "markdown",
   "source": [
    "The covariance matrix $\\Sigma \\in R^{d\\times d}$ is expressed, in components terms as\n",
    "$$\n",
    "\\Sigma_{jk}=\\frac{1}{N}\\sum_{i=1}^N (x_j^{(i)} - \\mu_j) (x_k^{(i)} - \\mu_k),\n",
    "$$\n",
    "where $x_j^{(i)}$ is the $j^{th}$ feature of the $i^{\\text{th}}$ data-point and $\\mu_j$ is the statisticl mean.\n",
    "\n",
    "Numpy offers the methods `np.cov` to compute $\\Sigma$ and `np.eigs` for numerically estimating the eigencouples of a matrix."
   ],
   "metadata": {}
  },
  {
   "cell_type": "code",
   "execution_count": 6,
   "source": [
    "cov_mat = np.cov(X_train_sc.T)\n",
    "eigvals_cov, eigvecs_cov = np.linalg.eig(cov_mat)"
   ],
   "outputs": [],
   "metadata": {}
  },
  {
   "cell_type": "markdown",
   "source": [
    "Now, we can first compute the variance explained ratios and sort them in decreasing order. As a second step, we can compute the cumulative sums and finally plot both quantities to see the individual contributions of the eigenvalues and the number of principal components that we want to consider."
   ],
   "metadata": {}
  },
  {
   "cell_type": "code",
   "execution_count": 7,
   "source": [
    "tot = sum(eigvals_cov)\n",
    "var_expl_ratios = [(l / tot) for l in sorted(eigvals_cov, reverse=True)]\n",
    "\n",
    "cum_sum_expl_ratios = np.cumsum(var_expl_ratios)\n",
    "\n",
    "# plot explained variances\n",
    "plt.bar(range(1,31), var_expl_ratios, alpha=0.5,\n",
    "        align='center', label='individual explained variance')\n",
    "plt.step(range(1,31), cum_sum_expl_ratios, where='mid',\n",
    "         label='cumulative explained variance')\n",
    "plt.ylabel('Explained variance ratio')\n",
    "plt.xlabel('Principal component index')\n",
    "plt.legend(loc='best')\n",
    "plt.show()"
   ],
   "outputs": [
    {
     "output_type": "display_data",
     "data": {
      "text/plain": [
       "<Figure size 432x288 with 1 Axes>"
      ],
      "image/svg+xml": "<?xml version=\"1.0\" encoding=\"utf-8\" standalone=\"no\"?>\n<!DOCTYPE svg PUBLIC \"-//W3C//DTD SVG 1.1//EN\"\n  \"http://www.w3.org/Graphics/SVG/1.1/DTD/svg11.dtd\">\n<svg height=\"262.19625pt\" version=\"1.1\" viewBox=\"0 0 385.78125 262.19625\" width=\"385.78125pt\" xmlns=\"http://www.w3.org/2000/svg\" xmlns:xlink=\"http://www.w3.org/1999/xlink\">\n <metadata>\n  <rdf:RDF xmlns:cc=\"http://creativecommons.org/ns#\" xmlns:dc=\"http://purl.org/dc/elements/1.1/\" xmlns:rdf=\"http://www.w3.org/1999/02/22-rdf-syntax-ns#\">\n   <cc:Work>\n    <dc:type rdf:resource=\"http://purl.org/dc/dcmitype/StillImage\"/>\n    <dc:date>2021-08-12T11:16:13.471976</dc:date>\n    <dc:format>image/svg+xml</dc:format>\n    <dc:creator>\n     <cc:Agent>\n      <dc:title>Matplotlib v3.4.2, https://matplotlib.org/</dc:title>\n     </cc:Agent>\n    </dc:creator>\n   </cc:Work>\n  </rdf:RDF>\n </metadata>\n <defs>\n  <style type=\"text/css\">*{stroke-linecap:butt;stroke-linejoin:round;}</style>\n </defs>\n <g id=\"figure_1\">\n  <g id=\"patch_1\">\n   <path d=\"M 0 262.19625 \nL 385.78125 262.19625 \nL 385.78125 0 \nL 0 0 \nz\n\" style=\"fill:none;\"/>\n  </g>\n  <g id=\"axes_1\">\n   <g id=\"patch_2\">\n    <path d=\"M 43.78125 224.64 \nL 378.58125 224.64 \nL 378.58125 7.2 \nL 43.78125 7.2 \nz\n\" style=\"fill:#ffffff;\"/>\n   </g>\n   <g id=\"patch_3\">\n    <path clip-path=\"url(#p282cd927f4)\" d=\"M 58.999432 224.64 \nL 67.170268 224.64 \nL 67.170268 132.635774 \nL 58.999432 132.635774 \nz\n\" style=\"fill:#1f77b4;opacity:0.5;\"/>\n   </g>\n   <g id=\"patch_4\">\n    <path clip-path=\"url(#p282cd927f4)\" d=\"M 69.212977 224.64 \nL 77.383813 224.64 \nL 77.383813 184.868365 \nL 69.212977 184.868365 \nz\n\" style=\"fill:#1f77b4;opacity:0.5;\"/>\n   </g>\n   <g id=\"patch_5\">\n    <path clip-path=\"url(#p282cd927f4)\" d=\"M 79.426522 224.64 \nL 87.597357 224.64 \nL 87.597357 205.142132 \nL 79.426522 205.142132 \nz\n\" style=\"fill:#1f77b4;opacity:0.5;\"/>\n   </g>\n   <g id=\"patch_6\">\n    <path clip-path=\"url(#p282cd927f4)\" d=\"M 89.640066 224.64 \nL 97.810902 224.64 \nL 97.810902 210.905832 \nL 89.640066 210.905832 \nz\n\" style=\"fill:#1f77b4;opacity:0.5;\"/>\n   </g>\n   <g id=\"patch_7\">\n    <path clip-path=\"url(#p282cd927f4)\" d=\"M 99.853611 224.64 \nL 108.024447 224.64 \nL 108.024447 213.863735 \nL 99.853611 213.863735 \nz\n\" style=\"fill:#1f77b4;opacity:0.5;\"/>\n   </g>\n   <g id=\"patch_8\">\n    <path clip-path=\"url(#p282cd927f4)\" d=\"M 110.067156 224.64 \nL 118.237992 224.64 \nL 118.237992 216.503145 \nL 110.067156 216.503145 \nz\n\" style=\"fill:#1f77b4;opacity:0.5;\"/>\n   </g>\n   <g id=\"patch_9\">\n    <path clip-path=\"url(#p282cd927f4)\" d=\"M 120.280701 224.64 \nL 128.451537 224.64 \nL 128.451537 219.549862 \nL 120.280701 219.549862 \nz\n\" style=\"fill:#1f77b4;opacity:0.5;\"/>\n   </g>\n   <g id=\"patch_10\">\n    <path clip-path=\"url(#p282cd927f4)\" d=\"M 130.494246 224.64 \nL 138.665082 224.64 \nL 138.665082 221.324622 \nL 130.494246 221.324622 \nz\n\" style=\"fill:#1f77b4;opacity:0.5;\"/>\n   </g>\n   <g id=\"patch_11\">\n    <path clip-path=\"url(#p282cd927f4)\" d=\"M 140.707791 224.64 \nL 148.878626 224.64 \nL 148.878626 221.559575 \nL 140.707791 221.559575 \nz\n\" style=\"fill:#1f77b4;opacity:0.5;\"/>\n   </g>\n   <g id=\"patch_12\">\n    <path clip-path=\"url(#p282cd927f4)\" d=\"M 150.921335 224.64 \nL 159.092171 224.64 \nL 159.092171 222.166367 \nL 150.921335 222.166367 \nz\n\" style=\"fill:#1f77b4;opacity:0.5;\"/>\n   </g>\n   <g id=\"patch_13\">\n    <path clip-path=\"url(#p282cd927f4)\" d=\"M 161.13488 224.64 \nL 169.305716 224.64 \nL 169.305716 222.735475 \nL 161.13488 222.735475 \nz\n\" style=\"fill:#1f77b4;opacity:0.5;\"/>\n   </g>\n   <g id=\"patch_14\">\n    <path clip-path=\"url(#p282cd927f4)\" d=\"M 171.348425 224.64 \nL 179.519261 224.64 \nL 179.519261 222.977357 \nL 171.348425 222.977357 \nz\n\" style=\"fill:#1f77b4;opacity:0.5;\"/>\n   </g>\n   <g id=\"patch_15\">\n    <path clip-path=\"url(#p282cd927f4)\" d=\"M 181.56197 224.64 \nL 189.732806 224.64 \nL 189.732806 223.334409 \nL 181.56197 223.334409 \nz\n\" style=\"fill:#1f77b4;opacity:0.5;\"/>\n   </g>\n   <g id=\"patch_16\">\n    <path clip-path=\"url(#p282cd927f4)\" d=\"M 191.775515 224.64 \nL 199.946351 224.64 \nL 199.946351 223.596702 \nL 191.775515 223.596702 \nz\n\" style=\"fill:#1f77b4;opacity:0.5;\"/>\n   </g>\n   <g id=\"patch_17\">\n    <path clip-path=\"url(#p282cd927f4)\" d=\"M 201.98906 224.64 \nL 210.159896 224.64 \nL 210.159896 223.945681 \nL 201.98906 223.945681 \nz\n\" style=\"fill:#1f77b4;opacity:0.5;\"/>\n   </g>\n   <g id=\"patch_18\">\n    <path clip-path=\"url(#p282cd927f4)\" d=\"M 212.202604 224.64 \nL 220.37344 224.64 \nL 220.37344 224.136315 \nL 212.202604 224.136315 \nz\n\" style=\"fill:#1f77b4;opacity:0.5;\"/>\n   </g>\n   <g id=\"patch_19\">\n    <path clip-path=\"url(#p282cd927f4)\" d=\"M 222.416149 224.64 \nL 230.586985 224.64 \nL 230.586985 224.250656 \nL 222.416149 224.250656 \nz\n\" style=\"fill:#1f77b4;opacity:0.5;\"/>\n   </g>\n   <g id=\"patch_20\">\n    <path clip-path=\"url(#p282cd927f4)\" d=\"M 232.629694 224.64 \nL 240.80053 224.64 \nL 240.80053 224.264537 \nL 232.629694 224.264537 \nz\n\" style=\"fill:#1f77b4;opacity:0.5;\"/>\n   </g>\n   <g id=\"patch_21\">\n    <path clip-path=\"url(#p282cd927f4)\" d=\"M 242.843239 224.64 \nL 251.014075 224.64 \nL 251.014075 224.321584 \nL 242.843239 224.321584 \nz\n\" style=\"fill:#1f77b4;opacity:0.5;\"/>\n   </g>\n   <g id=\"patch_22\">\n    <path clip-path=\"url(#p282cd927f4)\" d=\"M 253.056784 224.64 \nL 261.22762 224.64 \nL 261.22762 224.423188 \nL 253.056784 224.423188 \nz\n\" style=\"fill:#1f77b4;opacity:0.5;\"/>\n   </g>\n   <g id=\"patch_23\">\n    <path clip-path=\"url(#p282cd927f4)\" d=\"M 263.270329 224.64 \nL 271.441165 224.64 \nL 271.441165 224.446744 \nL 263.270329 224.446744 \nz\n\" style=\"fill:#1f77b4;opacity:0.5;\"/>\n   </g>\n   <g id=\"patch_24\">\n    <path clip-path=\"url(#p282cd927f4)\" d=\"M 273.483874 224.64 \nL 281.654709 224.64 \nL 281.654709 224.47746 \nL 273.483874 224.47746 \nz\n\" style=\"fill:#1f77b4;opacity:0.5;\"/>\n   </g>\n   <g id=\"patch_25\">\n    <path clip-path=\"url(#p282cd927f4)\" d=\"M 283.697418 224.64 \nL 291.868254 224.64 \nL 291.868254 224.502984 \nL 283.697418 224.502984 \nz\n\" style=\"fill:#1f77b4;opacity:0.5;\"/>\n   </g>\n   <g id=\"patch_26\">\n    <path clip-path=\"url(#p282cd927f4)\" d=\"M 293.910963 224.64 \nL 302.081799 224.64 \nL 302.081799 224.53138 \nL 293.910963 224.53138 \nz\n\" style=\"fill:#1f77b4;opacity:0.5;\"/>\n   </g>\n   <g id=\"patch_27\">\n    <path clip-path=\"url(#p282cd927f4)\" d=\"M 304.124508 224.64 \nL 312.295344 224.64 \nL 312.295344 224.563694 \nL 304.124508 224.563694 \nz\n\" style=\"fill:#1f77b4;opacity:0.5;\"/>\n   </g>\n   <g id=\"patch_28\">\n    <path clip-path=\"url(#p282cd927f4)\" d=\"M 314.338053 224.64 \nL 322.508889 224.64 \nL 322.508889 224.583868 \nL 314.338053 224.583868 \nz\n\" style=\"fill:#1f77b4;opacity:0.5;\"/>\n   </g>\n   <g id=\"patch_29\">\n    <path clip-path=\"url(#p282cd927f4)\" d=\"M 324.551598 224.64 \nL 332.722434 224.64 \nL 332.722434 224.596667 \nL 324.551598 224.596667 \nz\n\" style=\"fill:#1f77b4;opacity:0.5;\"/>\n   </g>\n   <g id=\"patch_30\">\n    <path clip-path=\"url(#p282cd927f4)\" d=\"M 334.765143 224.64 \nL 342.935978 224.64 \nL 342.935978 224.631406 \nL 334.765143 224.631406 \nz\n\" style=\"fill:#1f77b4;opacity:0.5;\"/>\n   </g>\n   <g id=\"patch_31\">\n    <path clip-path=\"url(#p282cd927f4)\" d=\"M 344.978687 224.64 \nL 353.149523 224.64 \nL 353.149523 224.63564 \nL 344.978687 224.63564 \nz\n\" style=\"fill:#1f77b4;opacity:0.5;\"/>\n   </g>\n   <g id=\"patch_32\">\n    <path clip-path=\"url(#p282cd927f4)\" d=\"M 355.192232 224.64 \nL 363.363068 224.64 \nL 363.363068 224.63913 \nL 355.192232 224.63913 \nz\n\" style=\"fill:#1f77b4;opacity:0.5;\"/>\n   </g>\n   <g id=\"matplotlib.axis_1\">\n    <g id=\"xtick_1\">\n     <g id=\"line2d_1\">\n      <defs>\n       <path d=\"M 0 0 \nL 0 3.5 \n\" id=\"m7fa49d049a\" style=\"stroke:#000000;stroke-width:0.8;\"/>\n      </defs>\n      <g>\n       <use style=\"stroke:#000000;stroke-width:0.8;\" x=\"52.871305\" xlink:href=\"#m7fa49d049a\" y=\"224.64\"/>\n      </g>\n     </g>\n     <g id=\"text_1\">\n      <!-- 0 -->\n      <g transform=\"translate(49.690055 239.238437)scale(0.1 -0.1)\">\n       <defs>\n        <path d=\"M 2034 4250 \nQ 1547 4250 1301 3770 \nQ 1056 3291 1056 2328 \nQ 1056 1369 1301 889 \nQ 1547 409 2034 409 \nQ 2525 409 2770 889 \nQ 3016 1369 3016 2328 \nQ 3016 3291 2770 3770 \nQ 2525 4250 2034 4250 \nz\nM 2034 4750 \nQ 2819 4750 3233 4129 \nQ 3647 3509 3647 2328 \nQ 3647 1150 3233 529 \nQ 2819 -91 2034 -91 \nQ 1250 -91 836 529 \nQ 422 1150 422 2328 \nQ 422 3509 836 4129 \nQ 1250 4750 2034 4750 \nz\n\" id=\"DejaVuSans-30\" transform=\"scale(0.015625)\"/>\n       </defs>\n       <use xlink:href=\"#DejaVuSans-30\"/>\n      </g>\n     </g>\n    </g>\n    <g id=\"xtick_2\">\n     <g id=\"line2d_2\">\n      <g>\n       <use style=\"stroke:#000000;stroke-width:0.8;\" x=\"103.939029\" xlink:href=\"#m7fa49d049a\" y=\"224.64\"/>\n      </g>\n     </g>\n     <g id=\"text_2\">\n      <!-- 5 -->\n      <g transform=\"translate(100.757779 239.238437)scale(0.1 -0.1)\">\n       <defs>\n        <path d=\"M 691 4666 \nL 3169 4666 \nL 3169 4134 \nL 1269 4134 \nL 1269 2991 \nQ 1406 3038 1543 3061 \nQ 1681 3084 1819 3084 \nQ 2600 3084 3056 2656 \nQ 3513 2228 3513 1497 \nQ 3513 744 3044 326 \nQ 2575 -91 1722 -91 \nQ 1428 -91 1123 -41 \nQ 819 9 494 109 \nL 494 744 \nQ 775 591 1075 516 \nQ 1375 441 1709 441 \nQ 2250 441 2565 725 \nQ 2881 1009 2881 1497 \nQ 2881 1984 2565 2268 \nQ 2250 2553 1709 2553 \nQ 1456 2553 1204 2497 \nQ 953 2441 691 2322 \nL 691 4666 \nz\n\" id=\"DejaVuSans-35\" transform=\"scale(0.015625)\"/>\n       </defs>\n       <use xlink:href=\"#DejaVuSans-35\"/>\n      </g>\n     </g>\n    </g>\n    <g id=\"xtick_3\">\n     <g id=\"line2d_3\">\n      <g>\n       <use style=\"stroke:#000000;stroke-width:0.8;\" x=\"155.006753\" xlink:href=\"#m7fa49d049a\" y=\"224.64\"/>\n      </g>\n     </g>\n     <g id=\"text_3\">\n      <!-- 10 -->\n      <g transform=\"translate(148.644253 239.238437)scale(0.1 -0.1)\">\n       <defs>\n        <path d=\"M 794 531 \nL 1825 531 \nL 1825 4091 \nL 703 3866 \nL 703 4441 \nL 1819 4666 \nL 2450 4666 \nL 2450 531 \nL 3481 531 \nL 3481 0 \nL 794 0 \nL 794 531 \nz\n\" id=\"DejaVuSans-31\" transform=\"scale(0.015625)\"/>\n       </defs>\n       <use xlink:href=\"#DejaVuSans-31\"/>\n       <use x=\"63.623047\" xlink:href=\"#DejaVuSans-30\"/>\n      </g>\n     </g>\n    </g>\n    <g id=\"xtick_4\">\n     <g id=\"line2d_4\">\n      <g>\n       <use style=\"stroke:#000000;stroke-width:0.8;\" x=\"206.074478\" xlink:href=\"#m7fa49d049a\" y=\"224.64\"/>\n      </g>\n     </g>\n     <g id=\"text_4\">\n      <!-- 15 -->\n      <g transform=\"translate(199.711978 239.238437)scale(0.1 -0.1)\">\n       <use xlink:href=\"#DejaVuSans-31\"/>\n       <use x=\"63.623047\" xlink:href=\"#DejaVuSans-35\"/>\n      </g>\n     </g>\n    </g>\n    <g id=\"xtick_5\">\n     <g id=\"line2d_5\">\n      <g>\n       <use style=\"stroke:#000000;stroke-width:0.8;\" x=\"257.142202\" xlink:href=\"#m7fa49d049a\" y=\"224.64\"/>\n      </g>\n     </g>\n     <g id=\"text_5\">\n      <!-- 20 -->\n      <g transform=\"translate(250.779702 239.238437)scale(0.1 -0.1)\">\n       <defs>\n        <path d=\"M 1228 531 \nL 3431 531 \nL 3431 0 \nL 469 0 \nL 469 531 \nQ 828 903 1448 1529 \nQ 2069 2156 2228 2338 \nQ 2531 2678 2651 2914 \nQ 2772 3150 2772 3378 \nQ 2772 3750 2511 3984 \nQ 2250 4219 1831 4219 \nQ 1534 4219 1204 4116 \nQ 875 4013 500 3803 \nL 500 4441 \nQ 881 4594 1212 4672 \nQ 1544 4750 1819 4750 \nQ 2544 4750 2975 4387 \nQ 3406 4025 3406 3419 \nQ 3406 3131 3298 2873 \nQ 3191 2616 2906 2266 \nQ 2828 2175 2409 1742 \nQ 1991 1309 1228 531 \nz\n\" id=\"DejaVuSans-32\" transform=\"scale(0.015625)\"/>\n       </defs>\n       <use xlink:href=\"#DejaVuSans-32\"/>\n       <use x=\"63.623047\" xlink:href=\"#DejaVuSans-30\"/>\n      </g>\n     </g>\n    </g>\n    <g id=\"xtick_6\">\n     <g id=\"line2d_6\">\n      <g>\n       <use style=\"stroke:#000000;stroke-width:0.8;\" x=\"308.209926\" xlink:href=\"#m7fa49d049a\" y=\"224.64\"/>\n      </g>\n     </g>\n     <g id=\"text_6\">\n      <!-- 25 -->\n      <g transform=\"translate(301.847426 239.238437)scale(0.1 -0.1)\">\n       <use xlink:href=\"#DejaVuSans-32\"/>\n       <use x=\"63.623047\" xlink:href=\"#DejaVuSans-35\"/>\n      </g>\n     </g>\n    </g>\n    <g id=\"xtick_7\">\n     <g id=\"line2d_7\">\n      <g>\n       <use style=\"stroke:#000000;stroke-width:0.8;\" x=\"359.27765\" xlink:href=\"#m7fa49d049a\" y=\"224.64\"/>\n      </g>\n     </g>\n     <g id=\"text_7\">\n      <!-- 30 -->\n      <g transform=\"translate(352.91515 239.238437)scale(0.1 -0.1)\">\n       <defs>\n        <path d=\"M 2597 2516 \nQ 3050 2419 3304 2112 \nQ 3559 1806 3559 1356 \nQ 3559 666 3084 287 \nQ 2609 -91 1734 -91 \nQ 1441 -91 1130 -33 \nQ 819 25 488 141 \nL 488 750 \nQ 750 597 1062 519 \nQ 1375 441 1716 441 \nQ 2309 441 2620 675 \nQ 2931 909 2931 1356 \nQ 2931 1769 2642 2001 \nQ 2353 2234 1838 2234 \nL 1294 2234 \nL 1294 2753 \nL 1863 2753 \nQ 2328 2753 2575 2939 \nQ 2822 3125 2822 3475 \nQ 2822 3834 2567 4026 \nQ 2313 4219 1838 4219 \nQ 1578 4219 1281 4162 \nQ 984 4106 628 3988 \nL 628 4550 \nQ 988 4650 1302 4700 \nQ 1616 4750 1894 4750 \nQ 2613 4750 3031 4423 \nQ 3450 4097 3450 3541 \nQ 3450 3153 3228 2886 \nQ 3006 2619 2597 2516 \nz\n\" id=\"DejaVuSans-33\" transform=\"scale(0.015625)\"/>\n       </defs>\n       <use xlink:href=\"#DejaVuSans-33\"/>\n       <use x=\"63.623047\" xlink:href=\"#DejaVuSans-30\"/>\n      </g>\n     </g>\n    </g>\n    <g id=\"text_8\">\n     <!-- Principal component index -->\n     <g transform=\"translate(144.729688 252.916562)scale(0.1 -0.1)\">\n      <defs>\n       <path d=\"M 1259 4147 \nL 1259 2394 \nL 2053 2394 \nQ 2494 2394 2734 2622 \nQ 2975 2850 2975 3272 \nQ 2975 3691 2734 3919 \nQ 2494 4147 2053 4147 \nL 1259 4147 \nz\nM 628 4666 \nL 2053 4666 \nQ 2838 4666 3239 4311 \nQ 3641 3956 3641 3272 \nQ 3641 2581 3239 2228 \nQ 2838 1875 2053 1875 \nL 1259 1875 \nL 1259 0 \nL 628 0 \nL 628 4666 \nz\n\" id=\"DejaVuSans-50\" transform=\"scale(0.015625)\"/>\n       <path d=\"M 2631 2963 \nQ 2534 3019 2420 3045 \nQ 2306 3072 2169 3072 \nQ 1681 3072 1420 2755 \nQ 1159 2438 1159 1844 \nL 1159 0 \nL 581 0 \nL 581 3500 \nL 1159 3500 \nL 1159 2956 \nQ 1341 3275 1631 3429 \nQ 1922 3584 2338 3584 \nQ 2397 3584 2469 3576 \nQ 2541 3569 2628 3553 \nL 2631 2963 \nz\n\" id=\"DejaVuSans-72\" transform=\"scale(0.015625)\"/>\n       <path d=\"M 603 3500 \nL 1178 3500 \nL 1178 0 \nL 603 0 \nL 603 3500 \nz\nM 603 4863 \nL 1178 4863 \nL 1178 4134 \nL 603 4134 \nL 603 4863 \nz\n\" id=\"DejaVuSans-69\" transform=\"scale(0.015625)\"/>\n       <path d=\"M 3513 2113 \nL 3513 0 \nL 2938 0 \nL 2938 2094 \nQ 2938 2591 2744 2837 \nQ 2550 3084 2163 3084 \nQ 1697 3084 1428 2787 \nQ 1159 2491 1159 1978 \nL 1159 0 \nL 581 0 \nL 581 3500 \nL 1159 3500 \nL 1159 2956 \nQ 1366 3272 1645 3428 \nQ 1925 3584 2291 3584 \nQ 2894 3584 3203 3211 \nQ 3513 2838 3513 2113 \nz\n\" id=\"DejaVuSans-6e\" transform=\"scale(0.015625)\"/>\n       <path d=\"M 3122 3366 \nL 3122 2828 \nQ 2878 2963 2633 3030 \nQ 2388 3097 2138 3097 \nQ 1578 3097 1268 2742 \nQ 959 2388 959 1747 \nQ 959 1106 1268 751 \nQ 1578 397 2138 397 \nQ 2388 397 2633 464 \nQ 2878 531 3122 666 \nL 3122 134 \nQ 2881 22 2623 -34 \nQ 2366 -91 2075 -91 \nQ 1284 -91 818 406 \nQ 353 903 353 1747 \nQ 353 2603 823 3093 \nQ 1294 3584 2113 3584 \nQ 2378 3584 2631 3529 \nQ 2884 3475 3122 3366 \nz\n\" id=\"DejaVuSans-63\" transform=\"scale(0.015625)\"/>\n       <path d=\"M 1159 525 \nL 1159 -1331 \nL 581 -1331 \nL 581 3500 \nL 1159 3500 \nL 1159 2969 \nQ 1341 3281 1617 3432 \nQ 1894 3584 2278 3584 \nQ 2916 3584 3314 3078 \nQ 3713 2572 3713 1747 \nQ 3713 922 3314 415 \nQ 2916 -91 2278 -91 \nQ 1894 -91 1617 61 \nQ 1341 213 1159 525 \nz\nM 3116 1747 \nQ 3116 2381 2855 2742 \nQ 2594 3103 2138 3103 \nQ 1681 3103 1420 2742 \nQ 1159 2381 1159 1747 \nQ 1159 1113 1420 752 \nQ 1681 391 2138 391 \nQ 2594 391 2855 752 \nQ 3116 1113 3116 1747 \nz\n\" id=\"DejaVuSans-70\" transform=\"scale(0.015625)\"/>\n       <path d=\"M 2194 1759 \nQ 1497 1759 1228 1600 \nQ 959 1441 959 1056 \nQ 959 750 1161 570 \nQ 1363 391 1709 391 \nQ 2188 391 2477 730 \nQ 2766 1069 2766 1631 \nL 2766 1759 \nL 2194 1759 \nz\nM 3341 1997 \nL 3341 0 \nL 2766 0 \nL 2766 531 \nQ 2569 213 2275 61 \nQ 1981 -91 1556 -91 \nQ 1019 -91 701 211 \nQ 384 513 384 1019 \nQ 384 1609 779 1909 \nQ 1175 2209 1959 2209 \nL 2766 2209 \nL 2766 2266 \nQ 2766 2663 2505 2880 \nQ 2244 3097 1772 3097 \nQ 1472 3097 1187 3025 \nQ 903 2953 641 2809 \nL 641 3341 \nQ 956 3463 1253 3523 \nQ 1550 3584 1831 3584 \nQ 2591 3584 2966 3190 \nQ 3341 2797 3341 1997 \nz\n\" id=\"DejaVuSans-61\" transform=\"scale(0.015625)\"/>\n       <path d=\"M 603 4863 \nL 1178 4863 \nL 1178 0 \nL 603 0 \nL 603 4863 \nz\n\" id=\"DejaVuSans-6c\" transform=\"scale(0.015625)\"/>\n       <path id=\"DejaVuSans-20\" transform=\"scale(0.015625)\"/>\n       <path d=\"M 1959 3097 \nQ 1497 3097 1228 2736 \nQ 959 2375 959 1747 \nQ 959 1119 1226 758 \nQ 1494 397 1959 397 \nQ 2419 397 2687 759 \nQ 2956 1122 2956 1747 \nQ 2956 2369 2687 2733 \nQ 2419 3097 1959 3097 \nz\nM 1959 3584 \nQ 2709 3584 3137 3096 \nQ 3566 2609 3566 1747 \nQ 3566 888 3137 398 \nQ 2709 -91 1959 -91 \nQ 1206 -91 779 398 \nQ 353 888 353 1747 \nQ 353 2609 779 3096 \nQ 1206 3584 1959 3584 \nz\n\" id=\"DejaVuSans-6f\" transform=\"scale(0.015625)\"/>\n       <path d=\"M 3328 2828 \nQ 3544 3216 3844 3400 \nQ 4144 3584 4550 3584 \nQ 5097 3584 5394 3201 \nQ 5691 2819 5691 2113 \nL 5691 0 \nL 5113 0 \nL 5113 2094 \nQ 5113 2597 4934 2840 \nQ 4756 3084 4391 3084 \nQ 3944 3084 3684 2787 \nQ 3425 2491 3425 1978 \nL 3425 0 \nL 2847 0 \nL 2847 2094 \nQ 2847 2600 2669 2842 \nQ 2491 3084 2119 3084 \nQ 1678 3084 1418 2786 \nQ 1159 2488 1159 1978 \nL 1159 0 \nL 581 0 \nL 581 3500 \nL 1159 3500 \nL 1159 2956 \nQ 1356 3278 1631 3431 \nQ 1906 3584 2284 3584 \nQ 2666 3584 2933 3390 \nQ 3200 3197 3328 2828 \nz\n\" id=\"DejaVuSans-6d\" transform=\"scale(0.015625)\"/>\n       <path d=\"M 3597 1894 \nL 3597 1613 \nL 953 1613 \nQ 991 1019 1311 708 \nQ 1631 397 2203 397 \nQ 2534 397 2845 478 \nQ 3156 559 3463 722 \nL 3463 178 \nQ 3153 47 2828 -22 \nQ 2503 -91 2169 -91 \nQ 1331 -91 842 396 \nQ 353 884 353 1716 \nQ 353 2575 817 3079 \nQ 1281 3584 2069 3584 \nQ 2775 3584 3186 3129 \nQ 3597 2675 3597 1894 \nz\nM 3022 2063 \nQ 3016 2534 2758 2815 \nQ 2500 3097 2075 3097 \nQ 1594 3097 1305 2825 \nQ 1016 2553 972 2059 \nL 3022 2063 \nz\n\" id=\"DejaVuSans-65\" transform=\"scale(0.015625)\"/>\n       <path d=\"M 1172 4494 \nL 1172 3500 \nL 2356 3500 \nL 2356 3053 \nL 1172 3053 \nL 1172 1153 \nQ 1172 725 1289 603 \nQ 1406 481 1766 481 \nL 2356 481 \nL 2356 0 \nL 1766 0 \nQ 1100 0 847 248 \nQ 594 497 594 1153 \nL 594 3053 \nL 172 3053 \nL 172 3500 \nL 594 3500 \nL 594 4494 \nL 1172 4494 \nz\n\" id=\"DejaVuSans-74\" transform=\"scale(0.015625)\"/>\n       <path d=\"M 2906 2969 \nL 2906 4863 \nL 3481 4863 \nL 3481 0 \nL 2906 0 \nL 2906 525 \nQ 2725 213 2448 61 \nQ 2172 -91 1784 -91 \nQ 1150 -91 751 415 \nQ 353 922 353 1747 \nQ 353 2572 751 3078 \nQ 1150 3584 1784 3584 \nQ 2172 3584 2448 3432 \nQ 2725 3281 2906 2969 \nz\nM 947 1747 \nQ 947 1113 1208 752 \nQ 1469 391 1925 391 \nQ 2381 391 2643 752 \nQ 2906 1113 2906 1747 \nQ 2906 2381 2643 2742 \nQ 2381 3103 1925 3103 \nQ 1469 3103 1208 2742 \nQ 947 2381 947 1747 \nz\n\" id=\"DejaVuSans-64\" transform=\"scale(0.015625)\"/>\n       <path d=\"M 3513 3500 \nL 2247 1797 \nL 3578 0 \nL 2900 0 \nL 1881 1375 \nL 863 0 \nL 184 0 \nL 1544 1831 \nL 300 3500 \nL 978 3500 \nL 1906 2253 \nL 2834 3500 \nL 3513 3500 \nz\n\" id=\"DejaVuSans-78\" transform=\"scale(0.015625)\"/>\n      </defs>\n      <use xlink:href=\"#DejaVuSans-50\"/>\n      <use x=\"58.552734\" xlink:href=\"#DejaVuSans-72\"/>\n      <use x=\"99.666016\" xlink:href=\"#DejaVuSans-69\"/>\n      <use x=\"127.449219\" xlink:href=\"#DejaVuSans-6e\"/>\n      <use x=\"190.828125\" xlink:href=\"#DejaVuSans-63\"/>\n      <use x=\"245.808594\" xlink:href=\"#DejaVuSans-69\"/>\n      <use x=\"273.591797\" xlink:href=\"#DejaVuSans-70\"/>\n      <use x=\"337.068359\" xlink:href=\"#DejaVuSans-61\"/>\n      <use x=\"398.347656\" xlink:href=\"#DejaVuSans-6c\"/>\n      <use x=\"426.130859\" xlink:href=\"#DejaVuSans-20\"/>\n      <use x=\"457.917969\" xlink:href=\"#DejaVuSans-63\"/>\n      <use x=\"512.898438\" xlink:href=\"#DejaVuSans-6f\"/>\n      <use x=\"574.080078\" xlink:href=\"#DejaVuSans-6d\"/>\n      <use x=\"671.492188\" xlink:href=\"#DejaVuSans-70\"/>\n      <use x=\"734.96875\" xlink:href=\"#DejaVuSans-6f\"/>\n      <use x=\"796.150391\" xlink:href=\"#DejaVuSans-6e\"/>\n      <use x=\"859.529297\" xlink:href=\"#DejaVuSans-65\"/>\n      <use x=\"921.052734\" xlink:href=\"#DejaVuSans-6e\"/>\n      <use x=\"984.431641\" xlink:href=\"#DejaVuSans-74\"/>\n      <use x=\"1023.640625\" xlink:href=\"#DejaVuSans-20\"/>\n      <use x=\"1055.427734\" xlink:href=\"#DejaVuSans-69\"/>\n      <use x=\"1083.210938\" xlink:href=\"#DejaVuSans-6e\"/>\n      <use x=\"1146.589844\" xlink:href=\"#DejaVuSans-64\"/>\n      <use x=\"1210.066406\" xlink:href=\"#DejaVuSans-65\"/>\n      <use x=\"1269.839844\" xlink:href=\"#DejaVuSans-78\"/>\n     </g>\n    </g>\n   </g>\n   <g id=\"matplotlib.axis_2\">\n    <g id=\"ytick_1\">\n     <g id=\"line2d_8\">\n      <defs>\n       <path d=\"M 0 0 \nL -3.5 0 \n\" id=\"m19262fd65a\" style=\"stroke:#000000;stroke-width:0.8;\"/>\n      </defs>\n      <g>\n       <use style=\"stroke:#000000;stroke-width:0.8;\" x=\"43.78125\" xlink:href=\"#m19262fd65a\" y=\"224.64\"/>\n      </g>\n     </g>\n     <g id=\"text_9\">\n      <!-- 0.0 -->\n      <g transform=\"translate(20.878125 228.439219)scale(0.1 -0.1)\">\n       <defs>\n        <path d=\"M 684 794 \nL 1344 794 \nL 1344 0 \nL 684 0 \nL 684 794 \nz\n\" id=\"DejaVuSans-2e\" transform=\"scale(0.015625)\"/>\n       </defs>\n       <use xlink:href=\"#DejaVuSans-30\"/>\n       <use x=\"63.623047\" xlink:href=\"#DejaVuSans-2e\"/>\n       <use x=\"95.410156\" xlink:href=\"#DejaVuSans-30\"/>\n      </g>\n     </g>\n    </g>\n    <g id=\"ytick_2\">\n     <g id=\"line2d_9\">\n      <g>\n       <use style=\"stroke:#000000;stroke-width:0.8;\" x=\"43.78125\" xlink:href=\"#m19262fd65a\" y=\"183.222857\"/>\n      </g>\n     </g>\n     <g id=\"text_10\">\n      <!-- 0.2 -->\n      <g transform=\"translate(20.878125 187.022076)scale(0.1 -0.1)\">\n       <use xlink:href=\"#DejaVuSans-30\"/>\n       <use x=\"63.623047\" xlink:href=\"#DejaVuSans-2e\"/>\n       <use x=\"95.410156\" xlink:href=\"#DejaVuSans-32\"/>\n      </g>\n     </g>\n    </g>\n    <g id=\"ytick_3\">\n     <g id=\"line2d_10\">\n      <g>\n       <use style=\"stroke:#000000;stroke-width:0.8;\" x=\"43.78125\" xlink:href=\"#m19262fd65a\" y=\"141.805714\"/>\n      </g>\n     </g>\n     <g id=\"text_11\">\n      <!-- 0.4 -->\n      <g transform=\"translate(20.878125 145.604933)scale(0.1 -0.1)\">\n       <defs>\n        <path d=\"M 2419 4116 \nL 825 1625 \nL 2419 1625 \nL 2419 4116 \nz\nM 2253 4666 \nL 3047 4666 \nL 3047 1625 \nL 3713 1625 \nL 3713 1100 \nL 3047 1100 \nL 3047 0 \nL 2419 0 \nL 2419 1100 \nL 313 1100 \nL 313 1709 \nL 2253 4666 \nz\n\" id=\"DejaVuSans-34\" transform=\"scale(0.015625)\"/>\n       </defs>\n       <use xlink:href=\"#DejaVuSans-30\"/>\n       <use x=\"63.623047\" xlink:href=\"#DejaVuSans-2e\"/>\n       <use x=\"95.410156\" xlink:href=\"#DejaVuSans-34\"/>\n      </g>\n     </g>\n    </g>\n    <g id=\"ytick_4\">\n     <g id=\"line2d_11\">\n      <g>\n       <use style=\"stroke:#000000;stroke-width:0.8;\" x=\"43.78125\" xlink:href=\"#m19262fd65a\" y=\"100.388571\"/>\n      </g>\n     </g>\n     <g id=\"text_12\">\n      <!-- 0.6 -->\n      <g transform=\"translate(20.878125 104.18779)scale(0.1 -0.1)\">\n       <defs>\n        <path d=\"M 2113 2584 \nQ 1688 2584 1439 2293 \nQ 1191 2003 1191 1497 \nQ 1191 994 1439 701 \nQ 1688 409 2113 409 \nQ 2538 409 2786 701 \nQ 3034 994 3034 1497 \nQ 3034 2003 2786 2293 \nQ 2538 2584 2113 2584 \nz\nM 3366 4563 \nL 3366 3988 \nQ 3128 4100 2886 4159 \nQ 2644 4219 2406 4219 \nQ 1781 4219 1451 3797 \nQ 1122 3375 1075 2522 \nQ 1259 2794 1537 2939 \nQ 1816 3084 2150 3084 \nQ 2853 3084 3261 2657 \nQ 3669 2231 3669 1497 \nQ 3669 778 3244 343 \nQ 2819 -91 2113 -91 \nQ 1303 -91 875 529 \nQ 447 1150 447 2328 \nQ 447 3434 972 4092 \nQ 1497 4750 2381 4750 \nQ 2619 4750 2861 4703 \nQ 3103 4656 3366 4563 \nz\n\" id=\"DejaVuSans-36\" transform=\"scale(0.015625)\"/>\n       </defs>\n       <use xlink:href=\"#DejaVuSans-30\"/>\n       <use x=\"63.623047\" xlink:href=\"#DejaVuSans-2e\"/>\n       <use x=\"95.410156\" xlink:href=\"#DejaVuSans-36\"/>\n      </g>\n     </g>\n    </g>\n    <g id=\"ytick_5\">\n     <g id=\"line2d_12\">\n      <g>\n       <use style=\"stroke:#000000;stroke-width:0.8;\" x=\"43.78125\" xlink:href=\"#m19262fd65a\" y=\"58.971429\"/>\n      </g>\n     </g>\n     <g id=\"text_13\">\n      <!-- 0.8 -->\n      <g transform=\"translate(20.878125 62.770647)scale(0.1 -0.1)\">\n       <defs>\n        <path d=\"M 2034 2216 \nQ 1584 2216 1326 1975 \nQ 1069 1734 1069 1313 \nQ 1069 891 1326 650 \nQ 1584 409 2034 409 \nQ 2484 409 2743 651 \nQ 3003 894 3003 1313 \nQ 3003 1734 2745 1975 \nQ 2488 2216 2034 2216 \nz\nM 1403 2484 \nQ 997 2584 770 2862 \nQ 544 3141 544 3541 \nQ 544 4100 942 4425 \nQ 1341 4750 2034 4750 \nQ 2731 4750 3128 4425 \nQ 3525 4100 3525 3541 \nQ 3525 3141 3298 2862 \nQ 3072 2584 2669 2484 \nQ 3125 2378 3379 2068 \nQ 3634 1759 3634 1313 \nQ 3634 634 3220 271 \nQ 2806 -91 2034 -91 \nQ 1263 -91 848 271 \nQ 434 634 434 1313 \nQ 434 1759 690 2068 \nQ 947 2378 1403 2484 \nz\nM 1172 3481 \nQ 1172 3119 1398 2916 \nQ 1625 2713 2034 2713 \nQ 2441 2713 2670 2916 \nQ 2900 3119 2900 3481 \nQ 2900 3844 2670 4047 \nQ 2441 4250 2034 4250 \nQ 1625 4250 1398 4047 \nQ 1172 3844 1172 3481 \nz\n\" id=\"DejaVuSans-38\" transform=\"scale(0.015625)\"/>\n       </defs>\n       <use xlink:href=\"#DejaVuSans-30\"/>\n       <use x=\"63.623047\" xlink:href=\"#DejaVuSans-2e\"/>\n       <use x=\"95.410156\" xlink:href=\"#DejaVuSans-38\"/>\n      </g>\n     </g>\n    </g>\n    <g id=\"ytick_6\">\n     <g id=\"line2d_13\">\n      <g>\n       <use style=\"stroke:#000000;stroke-width:0.8;\" x=\"43.78125\" xlink:href=\"#m19262fd65a\" y=\"17.554286\"/>\n      </g>\n     </g>\n     <g id=\"text_14\">\n      <!-- 1.0 -->\n      <g transform=\"translate(20.878125 21.353504)scale(0.1 -0.1)\">\n       <use xlink:href=\"#DejaVuSans-31\"/>\n       <use x=\"63.623047\" xlink:href=\"#DejaVuSans-2e\"/>\n       <use x=\"95.410156\" xlink:href=\"#DejaVuSans-30\"/>\n      </g>\n     </g>\n    </g>\n    <g id=\"text_15\">\n     <!-- Explained variance ratio -->\n     <g transform=\"translate(14.798438 176.7075)rotate(-90)scale(0.1 -0.1)\">\n      <defs>\n       <path d=\"M 628 4666 \nL 3578 4666 \nL 3578 4134 \nL 1259 4134 \nL 1259 2753 \nL 3481 2753 \nL 3481 2222 \nL 1259 2222 \nL 1259 531 \nL 3634 531 \nL 3634 0 \nL 628 0 \nL 628 4666 \nz\n\" id=\"DejaVuSans-45\" transform=\"scale(0.015625)\"/>\n       <path d=\"M 191 3500 \nL 800 3500 \nL 1894 563 \nL 2988 3500 \nL 3597 3500 \nL 2284 0 \nL 1503 0 \nL 191 3500 \nz\n\" id=\"DejaVuSans-76\" transform=\"scale(0.015625)\"/>\n      </defs>\n      <use xlink:href=\"#DejaVuSans-45\"/>\n      <use x=\"63.183594\" xlink:href=\"#DejaVuSans-78\"/>\n      <use x=\"122.363281\" xlink:href=\"#DejaVuSans-70\"/>\n      <use x=\"185.839844\" xlink:href=\"#DejaVuSans-6c\"/>\n      <use x=\"213.623047\" xlink:href=\"#DejaVuSans-61\"/>\n      <use x=\"274.902344\" xlink:href=\"#DejaVuSans-69\"/>\n      <use x=\"302.685547\" xlink:href=\"#DejaVuSans-6e\"/>\n      <use x=\"366.064453\" xlink:href=\"#DejaVuSans-65\"/>\n      <use x=\"427.587891\" xlink:href=\"#DejaVuSans-64\"/>\n      <use x=\"491.064453\" xlink:href=\"#DejaVuSans-20\"/>\n      <use x=\"522.851562\" xlink:href=\"#DejaVuSans-76\"/>\n      <use x=\"582.03125\" xlink:href=\"#DejaVuSans-61\"/>\n      <use x=\"643.310547\" xlink:href=\"#DejaVuSans-72\"/>\n      <use x=\"684.423828\" xlink:href=\"#DejaVuSans-69\"/>\n      <use x=\"712.207031\" xlink:href=\"#DejaVuSans-61\"/>\n      <use x=\"773.486328\" xlink:href=\"#DejaVuSans-6e\"/>\n      <use x=\"836.865234\" xlink:href=\"#DejaVuSans-63\"/>\n      <use x=\"891.845703\" xlink:href=\"#DejaVuSans-65\"/>\n      <use x=\"953.369141\" xlink:href=\"#DejaVuSans-20\"/>\n      <use x=\"985.15625\" xlink:href=\"#DejaVuSans-72\"/>\n      <use x=\"1026.269531\" xlink:href=\"#DejaVuSans-61\"/>\n      <use x=\"1087.548828\" xlink:href=\"#DejaVuSans-74\"/>\n      <use x=\"1126.757812\" xlink:href=\"#DejaVuSans-69\"/>\n      <use x=\"1154.541016\" xlink:href=\"#DejaVuSans-6f\"/>\n     </g>\n    </g>\n   </g>\n   <g id=\"line2d_14\">\n    <path clip-path=\"url(#p282cd927f4)\" d=\"M 63.08485 132.635774 \nL 68.191622 132.635774 \nL 68.191622 92.864139 \nL 78.405167 92.864139 \nL 78.405167 73.36627 \nL 88.618712 73.36627 \nL 88.618712 59.632102 \nL 98.832257 59.632102 \nL 98.832257 48.855837 \nL 109.045802 48.855837 \nL 109.045802 40.718982 \nL 119.259346 40.718982 \nL 119.259346 35.628844 \nL 129.472891 35.628844 \nL 129.472891 32.313466 \nL 139.686436 32.313466 \nL 139.686436 29.23304 \nL 149.899981 29.23304 \nL 149.899981 26.759407 \nL 160.113526 26.759407 \nL 160.113526 24.854882 \nL 170.327071 24.854882 \nL 170.327071 23.192239 \nL 180.540615 23.192239 \nL 180.540615 21.886649 \nL 190.75416 21.886649 \nL 190.75416 20.84335 \nL 200.967705 20.84335 \nL 200.967705 20.149032 \nL 211.18125 20.149032 \nL 211.18125 19.645347 \nL 221.394795 19.645347 \nL 221.394795 19.256003 \nL 231.60834 19.256003 \nL 231.60834 18.88054 \nL 241.821885 18.88054 \nL 241.821885 18.562125 \nL 252.035429 18.562125 \nL 252.035429 18.345313 \nL 262.248974 18.345313 \nL 262.248974 18.152057 \nL 272.462519 18.152057 \nL 272.462519 17.989517 \nL 282.676064 17.989517 \nL 282.676064 17.852501 \nL 292.889609 17.852501 \nL 292.889609 17.743881 \nL 303.103154 17.743881 \nL 303.103154 17.667575 \nL 313.316698 17.667575 \nL 313.316698 17.611443 \nL 323.530243 17.611443 \nL 323.530243 17.56811 \nL 333.743788 17.56811 \nL 333.743788 17.559516 \nL 343.957333 17.559516 \nL 343.957333 17.555156 \nL 354.170878 17.555156 \nL 354.170878 17.554286 \nL 359.27765 17.554286 \n\" style=\"fill:none;stroke:#1f77b4;stroke-linecap:square;stroke-width:1.5;\"/>\n   </g>\n   <g id=\"patch_33\">\n    <path d=\"M 43.78125 224.64 \nL 43.78125 7.2 \n\" style=\"fill:none;stroke:#000000;stroke-linecap:square;stroke-linejoin:miter;stroke-width:0.8;\"/>\n   </g>\n   <g id=\"patch_34\">\n    <path d=\"M 378.58125 224.64 \nL 378.58125 7.2 \n\" style=\"fill:none;stroke:#000000;stroke-linecap:square;stroke-linejoin:miter;stroke-width:0.8;\"/>\n   </g>\n   <g id=\"patch_35\">\n    <path d=\"M 43.78125 224.64 \nL 378.58125 224.64 \n\" style=\"fill:none;stroke:#000000;stroke-linecap:square;stroke-linejoin:miter;stroke-width:0.8;\"/>\n   </g>\n   <g id=\"patch_36\">\n    <path d=\"M 43.78125 7.2 \nL 378.58125 7.2 \n\" style=\"fill:none;stroke:#000000;stroke-linecap:square;stroke-linejoin:miter;stroke-width:0.8;\"/>\n   </g>\n   <g id=\"legend_1\">\n    <g id=\"patch_37\">\n     <path d=\"M 185.8125 219.64 \nL 371.58125 219.64 \nQ 373.58125 219.64 373.58125 217.64 \nL 373.58125 189.28375 \nQ 373.58125 187.28375 371.58125 187.28375 \nL 185.8125 187.28375 \nQ 183.8125 187.28375 183.8125 189.28375 \nL 183.8125 217.64 \nQ 183.8125 219.64 185.8125 219.64 \nz\n\" style=\"fill:#ffffff;opacity:0.8;stroke:#cccccc;stroke-linejoin:miter;\"/>\n    </g>\n    <g id=\"line2d_15\">\n     <path d=\"M 187.8125 195.382187 \nL 207.8125 195.382187 \n\" style=\"fill:none;stroke:#1f77b4;stroke-linecap:square;stroke-width:1.5;\"/>\n    </g>\n    <g id=\"line2d_16\"/>\n    <g id=\"text_16\">\n     <!-- cumulative explained variance -->\n     <g transform=\"translate(215.8125 198.882187)scale(0.1 -0.1)\">\n      <defs>\n       <path d=\"M 544 1381 \nL 544 3500 \nL 1119 3500 \nL 1119 1403 \nQ 1119 906 1312 657 \nQ 1506 409 1894 409 \nQ 2359 409 2629 706 \nQ 2900 1003 2900 1516 \nL 2900 3500 \nL 3475 3500 \nL 3475 0 \nL 2900 0 \nL 2900 538 \nQ 2691 219 2414 64 \nQ 2138 -91 1772 -91 \nQ 1169 -91 856 284 \nQ 544 659 544 1381 \nz\nM 1991 3584 \nL 1991 3584 \nz\n\" id=\"DejaVuSans-75\" transform=\"scale(0.015625)\"/>\n      </defs>\n      <use xlink:href=\"#DejaVuSans-63\"/>\n      <use x=\"54.980469\" xlink:href=\"#DejaVuSans-75\"/>\n      <use x=\"118.359375\" xlink:href=\"#DejaVuSans-6d\"/>\n      <use x=\"215.771484\" xlink:href=\"#DejaVuSans-75\"/>\n      <use x=\"279.150391\" xlink:href=\"#DejaVuSans-6c\"/>\n      <use x=\"306.933594\" xlink:href=\"#DejaVuSans-61\"/>\n      <use x=\"368.212891\" xlink:href=\"#DejaVuSans-74\"/>\n      <use x=\"407.421875\" xlink:href=\"#DejaVuSans-69\"/>\n      <use x=\"435.205078\" xlink:href=\"#DejaVuSans-76\"/>\n      <use x=\"494.384766\" xlink:href=\"#DejaVuSans-65\"/>\n      <use x=\"555.908203\" xlink:href=\"#DejaVuSans-20\"/>\n      <use x=\"587.695312\" xlink:href=\"#DejaVuSans-65\"/>\n      <use x=\"647.46875\" xlink:href=\"#DejaVuSans-78\"/>\n      <use x=\"706.648438\" xlink:href=\"#DejaVuSans-70\"/>\n      <use x=\"770.125\" xlink:href=\"#DejaVuSans-6c\"/>\n      <use x=\"797.908203\" xlink:href=\"#DejaVuSans-61\"/>\n      <use x=\"859.1875\" xlink:href=\"#DejaVuSans-69\"/>\n      <use x=\"886.970703\" xlink:href=\"#DejaVuSans-6e\"/>\n      <use x=\"950.349609\" xlink:href=\"#DejaVuSans-65\"/>\n      <use x=\"1011.873047\" xlink:href=\"#DejaVuSans-64\"/>\n      <use x=\"1075.349609\" xlink:href=\"#DejaVuSans-20\"/>\n      <use x=\"1107.136719\" xlink:href=\"#DejaVuSans-76\"/>\n      <use x=\"1166.316406\" xlink:href=\"#DejaVuSans-61\"/>\n      <use x=\"1227.595703\" xlink:href=\"#DejaVuSans-72\"/>\n      <use x=\"1268.708984\" xlink:href=\"#DejaVuSans-69\"/>\n      <use x=\"1296.492188\" xlink:href=\"#DejaVuSans-61\"/>\n      <use x=\"1357.771484\" xlink:href=\"#DejaVuSans-6e\"/>\n      <use x=\"1421.150391\" xlink:href=\"#DejaVuSans-63\"/>\n      <use x=\"1476.130859\" xlink:href=\"#DejaVuSans-65\"/>\n     </g>\n    </g>\n    <g id=\"patch_38\">\n     <path d=\"M 187.8125 213.560312 \nL 207.8125 213.560312 \nL 207.8125 206.560312 \nL 187.8125 206.560312 \nz\n\" style=\"fill:#1f77b4;opacity:0.5;\"/>\n    </g>\n    <g id=\"text_17\">\n     <!-- individual explained variance -->\n     <g transform=\"translate(215.8125 213.560312)scale(0.1 -0.1)\">\n      <use xlink:href=\"#DejaVuSans-69\"/>\n      <use x=\"27.783203\" xlink:href=\"#DejaVuSans-6e\"/>\n      <use x=\"91.162109\" xlink:href=\"#DejaVuSans-64\"/>\n      <use x=\"154.638672\" xlink:href=\"#DejaVuSans-69\"/>\n      <use x=\"182.421875\" xlink:href=\"#DejaVuSans-76\"/>\n      <use x=\"241.601562\" xlink:href=\"#DejaVuSans-69\"/>\n      <use x=\"269.384766\" xlink:href=\"#DejaVuSans-64\"/>\n      <use x=\"332.861328\" xlink:href=\"#DejaVuSans-75\"/>\n      <use x=\"396.240234\" xlink:href=\"#DejaVuSans-61\"/>\n      <use x=\"457.519531\" xlink:href=\"#DejaVuSans-6c\"/>\n      <use x=\"485.302734\" xlink:href=\"#DejaVuSans-20\"/>\n      <use x=\"517.089844\" xlink:href=\"#DejaVuSans-65\"/>\n      <use x=\"576.863281\" xlink:href=\"#DejaVuSans-78\"/>\n      <use x=\"636.042969\" xlink:href=\"#DejaVuSans-70\"/>\n      <use x=\"699.519531\" xlink:href=\"#DejaVuSans-6c\"/>\n      <use x=\"727.302734\" xlink:href=\"#DejaVuSans-61\"/>\n      <use x=\"788.582031\" xlink:href=\"#DejaVuSans-69\"/>\n      <use x=\"816.365234\" xlink:href=\"#DejaVuSans-6e\"/>\n      <use x=\"879.744141\" xlink:href=\"#DejaVuSans-65\"/>\n      <use x=\"941.267578\" xlink:href=\"#DejaVuSans-64\"/>\n      <use x=\"1004.744141\" xlink:href=\"#DejaVuSans-20\"/>\n      <use x=\"1036.53125\" xlink:href=\"#DejaVuSans-76\"/>\n      <use x=\"1095.710938\" xlink:href=\"#DejaVuSans-61\"/>\n      <use x=\"1156.990234\" xlink:href=\"#DejaVuSans-72\"/>\n      <use x=\"1198.103516\" xlink:href=\"#DejaVuSans-69\"/>\n      <use x=\"1225.886719\" xlink:href=\"#DejaVuSans-61\"/>\n      <use x=\"1287.166016\" xlink:href=\"#DejaVuSans-6e\"/>\n      <use x=\"1350.544922\" xlink:href=\"#DejaVuSans-63\"/>\n      <use x=\"1405.525391\" xlink:href=\"#DejaVuSans-65\"/>\n     </g>\n    </g>\n   </g>\n  </g>\n </g>\n <defs>\n  <clipPath id=\"p282cd927f4\">\n   <rect height=\"217.44\" width=\"334.8\" x=\"43.78125\" y=\"7.2\"/>\n  </clipPath>\n </defs>\n</svg>\n",
      "image/png": "[encoded data removed]"
     },
     "metadata": {
      "needs_background": "light"
     }
    }
   ],
   "metadata": {}
  },
  {
   "cell_type": "markdown",
   "source": [
    "From the plot, we see that keeping 5 components preserves around 85\\% of the original variance."
   ],
   "metadata": {}
  },
  {
   "cell_type": "markdown",
   "source": [
    "### Projecting data onto the principal components\n",
    "As a last step for dimensionality reduction, we need to use the components the we intend to keep to build the projection matrix $W \\in R^{d\\prime\\times d}$, such that\n",
    "$$\n",
    "X^\\prime = W\\, X,\n",
    "$$\n",
    "where $X \\in R^{N\\times d}$ is the matrix of the non-reduced datapoints and $X \\in R^{N\\times d\\prime}$ is the one after reduction."
   ],
   "metadata": {}
  },
  {
   "cell_type": "code",
   "execution_count": 11,
   "source": [
    "N_PRINC_COMP = 5\n",
    "\n",
    "# Make a list of (eigenvalue, eigenvector) tuples\n",
    "eigenpairs_cov = [(np.abs(eigvals_cov[i]), eigvecs_cov[:, i]) for i in range(len(eigvals_cov))]\n",
    "\n",
    "# Sort the (eigenvalue, eigenvector) tuples from high to low\n",
    "eigenpairs_cov.sort(key=lambda k: k[0], reverse=True)\n",
    "\n",
    "# Build the projection matrix\n",
    "W = np.hstack([eigenpairs_cov[i][1][:, np.newaxis] for i in range(N_PRINC_COMP)])\n",
    "\n",
    "# print('Matrix W:\\n', W)"
   ],
   "outputs": [],
   "metadata": {}
  },
  {
   "cell_type": "code",
   "execution_count": 12,
   "source": [
    "# Project the training subset onto the reduced subspace\n",
    "X_train_pca = X_train_sc.dot(W)"
   ],
   "outputs": [],
   "metadata": {}
  },
  {
   "cell_type": "markdown",
   "source": [
    "### Quantum variational circuit for classification\n",
    "One method of doing supervised learning with a quantum circuit is to use a variational quantum classifier as proposed by [Havicek et al.](https://arxiv.org/abs/1804.11326), [Fahri et al.](https://arxiv.org/abs/1802.06002) and [Schuld et al.](https://arxiv.org/abs/1804.00633).\n",
    "\n",
    "The quantum circuit architecture consists of three parts\n",
    "1. Feature-map circuit. This allows to encode the data into a quantum state. In this first example, we use one qubit per data feature and encode these as angles of rotational quantum gates\n",
    "2. Variational circuit. The part of the overall circuit that depends on the trainable parameters. \n",
    "3. Measurement.\n",
    "\n",
    "#### Feature-map circuit\n",
    "A feature map is a function $\\Phi$ which maps the data to a higher dimensional space. The aim of this transformation is to ensure that data will be linearly separable, once mapped in the higher-dimensional feature space.\n",
    "\n",
    "In this case we choose\n",
    "$$\n",
    "\\Phi(x) = \\bigotimes_{j=1}^n U(\\phi_j)\n",
    "$$\n",
    "with $\\phi_j=x_j$ (one angle per qubit/feature) and\n",
    "$$\n",
    "U(\\phi_j) = R_Z(\\phi_j)\\, R_Y(\\phi_j)\\, R_Z(\\phi_j),\n",
    "$$\n",
    "which is the tensor-product feature map proposed in the supplemental material of [Havicek et al.](https://arxiv.org/abs/1804.11326)."
   ],
   "metadata": {}
  },
  {
   "cell_type": "markdown",
   "source": [
    "First, we declare a number of qubits equal to the number of principal components that we kept from the reduction with PCA (5). Also we initialize a register of qubits using `cirq` and a simulator."
   ],
   "metadata": {}
  },
  {
   "cell_type": "code",
   "execution_count": 13,
   "source": [
    "import cirq"
   ],
   "outputs": [],
   "metadata": {}
  },
  {
   "cell_type": "code",
   "execution_count": 14,
   "source": [
    "n_qubits = 5\n",
    "\n",
    "# Create a register of qubits\n",
    "qubits = cirq.LineQubit.range(n_qubits)   \n",
    "\n",
    "# Initialize simulator\n",
    "simulator = cirq.Simulator()\n"
   ],
   "outputs": [],
   "metadata": {}
  },
  {
   "cell_type": "code",
   "execution_count": 15,
   "source": [
    "def feature_map_circuit(x_i):\n",
    "    \"\"\"Add the feature map part of the variational quantum circuit\n",
    "\n",
    "    Args:\n",
    "        x_i (np.ndarray): array of a single data-point\n",
    "    \"\"\"\n",
    "    yield (cirq.ops.rz(x_i[j]).on(qubits[j]) for j in range(len(x_i)))\n",
    "    yield (cirq.ops.ry(x_i[j]).on(qubits[j]) for j in range(len(x_i)))\n",
    "    yield (cirq.ops.rz(x_i[j]).on(qubits[j]) for j in range(len(x_i)))"
   ],
   "outputs": [],
   "metadata": {}
  },
  {
   "cell_type": "code",
   "execution_count": 18,
   "source": [
    "print(cirq.Circuit(feature_map_circuit(X_train_pca[0,:])))"
   ],
   "outputs": [
    {
     "output_type": "stream",
     "name": "stdout",
     "text": [
      "0: ───Rz(-1.01π)────Ry(-1.01π)────Rz(-1.01π)────\n",
      "\n",
      "1: ───Rz(-0.385π)───Ry(-0.385π)───Rz(-0.385π)───\n",
      "\n",
      "2: ───Rz(-0.093π)───Ry(-0.093π)───Rz(-0.093π)───\n",
      "\n",
      "3: ───Rz(0.291π)────Ry(0.291π)────Rz(0.291π)────\n",
      "\n",
      "4: ───Rz(0.313π)────Ry(0.313π)────Rz(0.313π)────\n"
     ]
    }
   ],
   "metadata": {}
  },
  {
   "cell_type": "markdown",
   "source": [
    "#### Variational circuit\n",
    "The variational part of a quantum classifier consists of a basic block of parametrized single qubit gates and entangling gates, which is repeated for $L$ layers. The gates used form a universal set.\n",
    "\n",
    "The additional layers can be interpreted in two ways. On one hand, each layer is the analogous of a neuron in a hidden layer of a classical neural network ([Perez-Salinas et al](https://arxiv.org/abs/1907.02085)). On the other hand, having a universal set of gates, repeating a basic block for $L$ 'time-slices' allows to reproduce every matrix exponential, i.e. every unitary. This is ensured by the Suzuki-Trotter formula.\n",
    "\n",
    "In our case, the single-qubit parametrized gates consist of $R_X(\\theta)$ gates and the entangling gates are controlled-$Z$ gates."
   ],
   "metadata": {}
  },
  {
   "cell_type": "markdown",
   "source": [
    "For the time being, let's fix a number of layers. We will then do a sensitivity analysis for this hyperparameter."
   ],
   "metadata": {}
  },
  {
   "cell_type": "code",
   "execution_count": 16,
   "source": [
    "# Number of layers\n",
    "n_layers = 3"
   ],
   "outputs": [],
   "metadata": {}
  },
  {
   "cell_type": "code",
   "execution_count": 22,
   "source": [
    "def variational_circuit(thetas):\n",
    "    \"\"\"Generate the parametrized part of the variational quantum classifier\n",
    "\n",
    "    Args:\n",
    "        thetas (np.ndarray): 2-dimensional array. The first dimension corresponds to the number of features and the second one to the number of layers.\n",
    "    \"\"\"\n",
    "    for l in range(n_layers):\n",
    "        yield (cirq.ops.rx(thetas[l][j]).on(qubits[j]) for j in range(n_qubits))\n",
    "        yield (cirq.ops.CZ(qubits[j], qubits[j+1]) for j in range (n_qubits-1))\n",
    "        yield cirq.ops.CZ(qubits[0], qubits[-1])\n"
   ],
   "outputs": [],
   "metadata": {}
  },
  {
   "cell_type": "markdown",
   "source": [
    "Let's now create a random matrix of parameters to see if the variational circuit looks as expected."
   ],
   "metadata": {}
  },
  {
   "cell_type": "code",
   "execution_count": 24,
   "source": [
    "np.random.seed(13)\n",
    "theta0 = np.random.uniform(-2*np.pi, 2*np.pi, size=(n_layers, n_qubits))\n",
    "\n",
    "variational_circuit_init = cirq.Circuit(variational_circuit(theta0))\n",
    "print(variational_circuit_init.to_text_diagram(transpose=True))"
   ],
   "outputs": [
    {
     "output_type": "stream",
     "name": "stdout",
     "text": [
      "  0           1           2          3          4\n",
      "  │           │           │          │          │\n",
      "  Rx(1.11π)   Rx(-1.05π)  Rx(1.3π)   Rx(1.86π)  Rx(1.89π)\n",
      "  │           │           │          │          │\n",
      "  @───────────@           │          │          │\n",
      "  │           │           │          │          │\n",
      "  │           @───────────@          │          │\n",
      "  │           │           │          │          │\n",
      "  │           Rx(0.436π)  @──────────@          │\n",
      "  │           │           │          │          │\n",
      "  │           │           Rx(1.1π)   @──────────@\n",
      "  │           │           │          │          │\n",
      "┌╴│           │           │          │          │          ╶┐\n",
      "│ @───────────┼───────────┼──────────┼──────────@           │\n",
      "│ │           │           │          Rx(0.566π) │           │\n",
      "└╴│           │           │          │          │          ╶┘\n",
      "  │           │           │          │          │\n",
      "  Rx(-0.186π) │           │          │          Rx(0.888π)\n",
      "  │           │           │          │          │\n",
      "  @───────────@           │          │          │\n",
      "  │           │           │          │          │\n",
      "  │           @───────────@          │          │\n",
      "  │           │           │          │          │\n",
      "  │           Rx(-0.806π) @──────────@          │\n",
      "  │           │           │          │          │\n",
      "  │           │           Rx(-1.77π) @──────────@\n",
      "  │           │           │          │          │\n",
      "┌╴│           │           │          │          │          ╶┐\n",
      "│ @───────────┼───────────┼──────────┼──────────@           │\n",
      "│ │           │           │          Rx(1.43π)  │           │\n",
      "└╴│           │           │          │          │          ╶┘\n",
      "  │           │           │          │          │\n",
      "  Rx(-1.86π)  │           │          │          Rx(-0.509π)\n",
      "  │           │           │          │          │\n",
      "  @───────────@           │          │          │\n",
      "  │           │           │          │          │\n",
      "  │           @───────────@          │          │\n",
      "  │           │           │          │          │\n",
      "  │           │           @──────────@          │\n",
      "  │           │           │          │          │\n",
      "  │           │           │          @──────────@\n",
      "  │           │           │          │          │\n",
      "  @───────────┼───────────┼──────────┼──────────@\n",
      "  │           │           │          │          │\n"
     ]
    }
   ],
   "metadata": {}
  },
  {
   "cell_type": "code",
   "execution_count": null,
   "source": [],
   "outputs": [],
   "metadata": {}
  }
 ],
 "metadata": {
  "orig_nbformat": 4,
  "language_info": {
   "name": "python",
   "version": "3.8.2",
   "mimetype": "text/x-python",
   "codemirror_mode": {
    "name": "ipython",
    "version": 3
   },
   "pygments_lexer": "ipython3",
   "nbconvert_exporter": "python",
   "file_extension": ".py"
  },
  "kernelspec": {
   "name": "python3",
   "display_name": "aqa_course:pyenv"
  },
  "interpreter": {
   "hash": "9a740af11063250e38cc681ed4147b116e0e3c60932148d9f135c469eac25242"
  }
 },
 "nbformat": 4,
 "nbformat_minor": 2
}